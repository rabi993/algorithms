{
 "cells": [
  {
   "cell_type": "code",
   "execution_count": 1,
   "metadata": {},
   "outputs": [
    {
     "name": "stdout",
     "output_type": "stream",
     "text": [
      "0 1 2 3 "
     ]
    }
   ],
   "source": [
    "import collections\n",
    "def bfs(graph, root):\n",
    "    visited, queue= [], [root]\n",
    "    while queue:\n",
    "        vertex = queue.pop(0)\n",
    "        prnt(vertex)\n",
    "        for node in graph[vertex]:\n",
    "            if node not in visited:\n",
    "                visited.append(node)\n",
    "                queue.append(node)\n",
    "\n",
    "def prnt(vertex):\n",
    "    print(vertex,end=' ')\n",
    "\n",
    "graph = {0: [1, 2], 1: [2,3], 2: [3], 3: [1,2]}\n",
    "bfs(graph, 0)"
   ]
  },
  {
   "cell_type": "code",
   "execution_count": null,
   "metadata": {},
   "outputs": [],
   "source": []
  }
 ],
 "metadata": {
  "kernelspec": {
   "display_name": "Python 3",
   "language": "python",
   "name": "python3"
  },
  "language_info": {
   "codemirror_mode": {
    "name": "ipython",
    "version": 3
   },
   "file_extension": ".py",
   "mimetype": "text/x-python",
   "name": "python",
   "nbconvert_exporter": "python",
   "pygments_lexer": "ipython3",
   "version": "3.7.3"
  }
 },
 "nbformat": 4,
 "nbformat_minor": 2
}
